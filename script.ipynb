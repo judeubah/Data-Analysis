{
 "cells": [
  {
   "cell_type": "code",
   "execution_count": 30,
   "metadata": {},
   "outputs": [
    {
     "name": "stdout",
     "output_type": "stream",
     "text": [
      "[<input class=\"btn btn-lg btn btn-block\" id=\"ctl00_CPHP_newloginControl_loginButton\" name=\"ctl00$CPHP$newloginControl$loginButton\" onclick='javascript:WebForm_DoPostBackWithOptions(new WebForm_PostBackOptions(\"ctl00$CPHP$newloginControl$loginButton\", \"\", true, \"\", \"\", false, false))' tabindex=\"6\" type=\"submit\" value=\"Login\"/>]\n"
     ]
    }
   ],
   "source": [
    "import requests as req\n",
    "from bs4 import BeautifulSoup\n",
    "credentials ={\n",
    "    'ite': {\n",
    "        'password':'ITCrowdRules!',\n",
    "         'url': 'https://iteuropa.circdata-solutions.co.uk/Fusion/login.aspx',\n",
    "         '__VIEWSTATE' : '/wEPDwUKMTgwMjQwMDI5M2Rksovo2zHemSveuJw8vAuQ6Xf8InA=',\n",
    "         '__EVENTVALIDATION' : '/wEWBQKPgenHBQLj+sxGAuOoubQBAqqg8cUOAteSgYoCZ204OWUV6uw8bUTN6GYNlbZWM7E='\n",
    "        },\n",
    "    'bpl':  {\n",
    "        'password':'Acumagic10', \n",
    "        'url': 'https://bpl.circdata-solutions.co.uk/Fusion/login.aspx',\n",
    "        '__VIEWSTATE':'/wEPDwUKMTgwMjQwMDI5M2Rk2e1SYhd3ZcfIKWr+jOok9jgKqtU=',\n",
    "        '__EVENTVALIDATION':'/wEWBQLV2djbAQLj+sxGAuOoubQBAqqg8cUOAteSgYoC7owPjxk9TLLjh/iR0zoJPMA+4Yk=',\n",
    "}\n",
    "}\n",
    "\n",
    "username = 'jubah@bpl-business.com'\n",
    "\n",
    "company = 'bpl'\n",
    "\n",
    "clients = {\n",
    "\n",
    "}\n",
    "\n",
    "## Login to dynamail\n",
    "webpage_response = req.get(credentials[company]['url'])\n",
    "webpage = webpage_response.content\n",
    "login_page = BeautifulSoup(webpage,'html.parser')\n",
    "\n",
    "    ##login input fields\n",
    "\n",
    "login_creds = {\n",
    "    'ctl00$CPHP$newloginControl$tbUsername': username,\n",
    "    'ctl00$CPHP$newloginControl$tbPassword': credentials[company]['password'],\n",
    "    'ctl00$CPHP$newloginControl$loginButton': 'Login',\n",
    "    '__VIEWSTATEGENERATOR': '5E82A05A'\n",
    "}\n",
    "\n",
    "session = req.session()\n",
    "res = session.post(credentials[company]['url'])\n",
    "# print(login_page.find_all('input'))\n",
    "inputs = login_page.find_all('input')\n",
    "print(inputs[5:])\n",
    "\n",
    "\n"
   ]
  }
 ],
 "metadata": {
  "kernelspec": {
   "display_name": "Python 3.9.12 ('base')",
   "language": "python",
   "name": "python3"
  },
  "language_info": {
   "codemirror_mode": {
    "name": "ipython",
    "version": 3
   },
   "file_extension": ".py",
   "mimetype": "text/x-python",
   "name": "python",
   "nbconvert_exporter": "python",
   "pygments_lexer": "ipython3",
   "version": "3.9.12"
  },
  "orig_nbformat": 4,
  "vscode": {
   "interpreter": {
    "hash": "01cf2e2fe5894d44bdffc1f9fc5ca6ca9931f6669129ee7e98bb7fd223434d06"
   }
  }
 },
 "nbformat": 4,
 "nbformat_minor": 2
}
